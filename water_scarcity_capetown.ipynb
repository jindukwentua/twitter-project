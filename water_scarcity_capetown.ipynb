{
 "cells": [
  {
   "cell_type": "code",
   "execution_count": 1,
   "metadata": {},
   "outputs": [],
   "source": [
    "import numpy as np\n",
    "import pandas as pd\n",
    "import seaborn as sns\n",
    "import matplotlib.pyplot as plt\n",
    "import itertools\n",
    "import snscrape.modules.twitter as sntwitter\n",
    "import plotly.graph_objects as go\n",
    "from datetime import datetime"
   ]
  },
  {
   "cell_type": "code",
   "execution_count": 2,
   "metadata": {},
   "outputs": [
    {
     "name": "stdout",
     "output_type": "stream",
     "text": [
      "Duration: 0:00:04.713575 \n"
     ]
    }
   ],
   "source": [
    "# Noting the time it takes to scrape 50000 tweets\n",
    "\n",
    "start_time = datetime.now()\n",
    "\n",
    "#Creating dataframe called 'data' and storing the tweets from May 1st 2021 to 30th Juy 2021 for 'Vaccine'\n",
    "tweets = pd.DataFrame(itertools.islice(sntwitter.TwitterSearchScraper('\"Water scarcity since:2021-01-01 until:2022-04-08 near:\"Cape Town\"').get_items(),10000))\n",
    "\n",
    "end_time = datetime.now()\n",
    "\n",
    "# Printing the time taken to scrape these tweets\n",
    "print('Duration: {} '.format(end_time - start_time))"
   ]
  },
  {
   "cell_type": "code",
   "execution_count": 3,
   "metadata": {},
   "outputs": [
    {
     "data": {
      "text/html": [
       "<div>\n",
       "<style scoped>\n",
       "    .dataframe tbody tr th:only-of-type {\n",
       "        vertical-align: middle;\n",
       "    }\n",
       "\n",
       "    .dataframe tbody tr th {\n",
       "        vertical-align: top;\n",
       "    }\n",
       "\n",
       "    .dataframe thead th {\n",
       "        text-align: right;\n",
       "    }\n",
       "</style>\n",
       "<table border=\"1\" class=\"dataframe\">\n",
       "  <thead>\n",
       "    <tr style=\"text-align: right;\">\n",
       "      <th></th>\n",
       "      <th>url</th>\n",
       "      <th>date</th>\n",
       "      <th>content</th>\n",
       "      <th>renderedContent</th>\n",
       "      <th>id</th>\n",
       "      <th>user</th>\n",
       "      <th>replyCount</th>\n",
       "      <th>retweetCount</th>\n",
       "      <th>likeCount</th>\n",
       "      <th>quoteCount</th>\n",
       "      <th>...</th>\n",
       "      <th>media</th>\n",
       "      <th>retweetedTweet</th>\n",
       "      <th>quotedTweet</th>\n",
       "      <th>inReplyToTweetId</th>\n",
       "      <th>inReplyToUser</th>\n",
       "      <th>mentionedUsers</th>\n",
       "      <th>coordinates</th>\n",
       "      <th>place</th>\n",
       "      <th>hashtags</th>\n",
       "      <th>cashtags</th>\n",
       "    </tr>\n",
       "  </thead>\n",
       "  <tbody>\n",
       "    <tr>\n",
       "      <th>0</th>\n",
       "      <td>https://twitter.com/Lukhokhanya/status/1511599...</td>\n",
       "      <td>2022-04-06 06:58:55+00:00</td>\n",
       "      <td>@zsimayi Water scarcity is a shame in SA and I...</td>\n",
       "      <td>@zsimayi Water scarcity is a shame in SA and I...</td>\n",
       "      <td>1511599315013505025</td>\n",
       "      <td>{'username': 'Lukhokhanya', 'id': 446860858, '...</td>\n",
       "      <td>1</td>\n",
       "      <td>0</td>\n",
       "      <td>1</td>\n",
       "      <td>0</td>\n",
       "      <td>...</td>\n",
       "      <td>None</td>\n",
       "      <td>None</td>\n",
       "      <td>None</td>\n",
       "      <td>1511596576556429314</td>\n",
       "      <td>{'username': 'zsimayi', 'id': 2722891763, 'dis...</td>\n",
       "      <td>[{'username': 'zsimayi', 'id': 2722891763, 'di...</td>\n",
       "      <td>None</td>\n",
       "      <td>None</td>\n",
       "      <td>None</td>\n",
       "      <td>None</td>\n",
       "    </tr>\n",
       "  </tbody>\n",
       "</table>\n",
       "<p>1 rows × 27 columns</p>\n",
       "</div>"
      ],
      "text/plain": [
       "                                                 url  \\\n",
       "0  https://twitter.com/Lukhokhanya/status/1511599...   \n",
       "\n",
       "                       date  \\\n",
       "0 2022-04-06 06:58:55+00:00   \n",
       "\n",
       "                                             content  \\\n",
       "0  @zsimayi Water scarcity is a shame in SA and I...   \n",
       "\n",
       "                                     renderedContent                   id  \\\n",
       "0  @zsimayi Water scarcity is a shame in SA and I...  1511599315013505025   \n",
       "\n",
       "                                                user  replyCount  \\\n",
       "0  {'username': 'Lukhokhanya', 'id': 446860858, '...           1   \n",
       "\n",
       "   retweetCount  likeCount  quoteCount  ...  media retweetedTweet quotedTweet  \\\n",
       "0             0          1           0  ...   None           None        None   \n",
       "\n",
       "      inReplyToTweetId                                      inReplyToUser  \\\n",
       "0  1511596576556429314  {'username': 'zsimayi', 'id': 2722891763, 'dis...   \n",
       "\n",
       "                                      mentionedUsers coordinates place  \\\n",
       "0  [{'username': 'zsimayi', 'id': 2722891763, 'di...        None  None   \n",
       "\n",
       "  hashtags cashtags  \n",
       "0     None     None  \n",
       "\n",
       "[1 rows x 27 columns]"
      ]
     },
     "execution_count": 3,
     "metadata": {},
     "output_type": "execute_result"
    }
   ],
   "source": [
    "tweets.head()"
   ]
  },
  {
   "cell_type": "code",
   "execution_count": 4,
   "metadata": {},
   "outputs": [
    {
     "data": {
      "text/plain": [
       "((1, 27),\n",
       " Index(['url', 'date', 'content', 'renderedContent', 'id', 'user', 'replyCount',\n",
       "        'retweetCount', 'likeCount', 'quoteCount', 'conversationId', 'lang',\n",
       "        'source', 'sourceUrl', 'sourceLabel', 'outlinks', 'tcooutlinks',\n",
       "        'media', 'retweetedTweet', 'quotedTweet', 'inReplyToTweetId',\n",
       "        'inReplyToUser', 'mentionedUsers', 'coordinates', 'place', 'hashtags',\n",
       "        'cashtags'],\n",
       "       dtype='object'))"
      ]
     },
     "execution_count": 4,
     "metadata": {},
     "output_type": "execute_result"
    }
   ],
   "source": [
    "tweets.shape, tweets.columns"
   ]
  },
  {
   "cell_type": "code",
   "execution_count": null,
   "metadata": {},
   "outputs": [],
   "source": [
    "tweets.to_csv('water_scarcity_capetown.csv')"
   ]
  },
  {
   "cell_type": "code",
   "execution_count": null,
   "metadata": {},
   "outputs": [],
   "source": []
  }
 ],
 "metadata": {
  "interpreter": {
   "hash": "b3ba2566441a7c06988d0923437866b63cedc61552a5af99d1f4fb67d367b25f"
  },
  "kernelspec": {
   "display_name": "Python 3.8.8 ('base')",
   "language": "python",
   "name": "python3"
  },
  "language_info": {
   "codemirror_mode": {
    "name": "ipython",
    "version": 3
   },
   "file_extension": ".py",
   "mimetype": "text/x-python",
   "name": "python",
   "nbconvert_exporter": "python",
   "pygments_lexer": "ipython3",
   "version": "3.8.8"
  },
  "orig_nbformat": 4
 },
 "nbformat": 4,
 "nbformat_minor": 2
}
