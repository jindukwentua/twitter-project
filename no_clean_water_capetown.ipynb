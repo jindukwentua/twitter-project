{
 "cells": [
  {
   "cell_type": "code",
   "execution_count": null,
   "metadata": {},
   "outputs": [],
   "source": [
    "import numpy as np\n",
    "import pandas as pd\n",
    "import seaborn as sns\n",
    "import matplotlib.pyplot as plt\n",
    "import itertools\n",
    "import snscrape.modules.twitter as sntwitter\n",
    "import plotly.graph_objects as go\n",
    "from datetime import datetime"
   ]
  },
  {
   "cell_type": "code",
   "execution_count": null,
   "metadata": {},
   "outputs": [],
   "source": [
    "# Noting the time it takes to scrape 50000 tweets\n",
    "\n",
    "start_time = datetime.now()\n",
    "\n",
    "#Creating dataframe called 'data' and storing the tweets from May 1st 2021 to 30th Juy 2021 for 'Vaccine'\n",
    "tweets = pd.DataFrame(itertools.islice(sntwitter.TwitterSearchScraper('\"#nocleanwater since:2021-01-01 until:2022-04-08 near:\"Cape Town\"').get_items(),10000))\n",
    "\n",
    "end_time = datetime.now()\n",
    "\n",
    "# Printing the time taken to scrape these tweets\n",
    "print('Duration: {} '.format(end_time - start_time))"
   ]
  },
  {
   "cell_type": "code",
   "execution_count": null,
   "metadata": {},
   "outputs": [],
   "source": [
    "tweets.head()"
   ]
  },
  {
   "cell_type": "code",
   "execution_count": null,
   "metadata": {},
   "outputs": [],
   "source": [
    "tweets.shape, tweets.columns"
   ]
  },
  {
   "cell_type": "code",
   "execution_count": null,
   "metadata": {},
   "outputs": [],
   "source": [
    "tweets.to_csv('no_clean_water_capetown.csv')"
   ]
  }
 ],
 "metadata": {
  "language_info": {
   "name": "python"
  },
  "orig_nbformat": 4
 },
 "nbformat": 4,
 "nbformat_minor": 2
}
