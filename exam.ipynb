{
 "cells": [
  {
   "cell_type": "code",
   "execution_count": null,
   "metadata": {},
   "outputs": [],
   "source": [
    "pip install snscrape\n"
   ]
  },
  {
   "cell_type": "code",
   "execution_count": 1,
   "metadata": {},
   "outputs": [],
   "source": [
    "import snscrape.modules.twitter as sntwitter\n",
    "import pandas as pd\n"
   ]
  },
  {
   "cell_type": "code",
   "execution_count": 4,
   "metadata": {},
   "outputs": [],
   "source": [
    "# list to append twitter data to\n",
    "phaneroo_tweets = []\n",
    "\n",
    "# get the twitter data from the #PhanerooKuGround hashtag\n",
    "for i, tweet in enumerate(sntwitter.TwitterSearchScraper('#PhanerooKuGround').get_items()):\n",
    "    if i > 5:\n",
    "        break\n",
    "    phaneroo_tweets.append(\n",
    "        [tweet.date, tweet.id, tweet.content, tweet.user.username, tweet.user.location])\n",
    "\n",
    "phaneroo_data = pd.DataFrame(phaneroo_tweets, columns=[\n",
    "                             'date', 'id', 'content', 'username', 'location'])\n",
    "phaneroo_data.head()\n",
    "phaneroo_data.to_csv('phaneroo_data.csv')\n"
   ]
  },
  {
   "cell_type": "code",
   "execution_count": null,
   "metadata": {},
   "outputs": [],
   "source": []
  }
 ],
 "metadata": {
  "interpreter": {
   "hash": "b3ba2566441a7c06988d0923437866b63cedc61552a5af99d1f4fb67d367b25f"
  },
  "kernelspec": {
   "display_name": "Python 3.8.8 ('base')",
   "language": "python",
   "name": "python3"
  },
  "language_info": {
   "codemirror_mode": {
    "name": "ipython",
    "version": 3
   },
   "file_extension": ".py",
   "mimetype": "text/x-python",
   "name": "python",
   "nbconvert_exporter": "python",
   "pygments_lexer": "ipython3",
   "version": "3.8.8"
  },
  "orig_nbformat": 4
 },
 "nbformat": 4,
 "nbformat_minor": 2
}
